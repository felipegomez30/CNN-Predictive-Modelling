{
 "cells": [
  {
   "cell_type": "code",
   "execution_count": null,
   "id": "f40317bc",
   "metadata": {},
   "outputs": [],
   "source": [
    "import os\n",
    "import shutil\n",
    "import pandas as pd\n",
    "import numpy as np\n",
    "import matplotlib.pyplot as plt\n",
    "from sklearn.metrics import accuracy_score, confusion_matrix\n",
    "from sklearn.metrics import classification_report\n",
    "import tensorflow\n",
    "import keras\n",
    "from keras.utils import image_dataset\n",
    "from keras.applications import imagenet_utils\n",
    "from tensorflow.keras.layers.experimental import preprocessing\n",
    "from keras.preprocessing.image import ImageDataGenerator\n",
    "from keras.applications import EfficientNetB0, EfficientNetB1, EfficientNetB2, EfficientNetB3\n",
    "from keras.layers import *\n",
    "from keras import Sequential\n",
    "from keras.optimizers import Adam\n",
    "from keras.losses import categorical_crossentropy\n",
    "from keras.losses import SparseCategoricalCrossentropy\n",
    "from keras.applications import VGG19\n",
    "from keras.applications.vgg19 import preprocess_input as ppi_vgg\n",
    "from keras.models import Model\n",
    "from matplotlib import image as mpimg\n",
    "import pickle"
   ]
  },
  {
   "cell_type": "code",
   "execution_count": null,
   "id": "d8153027",
   "metadata": {},
   "outputs": [],
   "source": [
    "data = pd.read_csv('./data/birds.csv')\n",
    "\n",
    "## set directory for filepaths\n",
    "base_dir= './data/'\n",
    "data = data.assign(full_path = base_dir+data.filepaths)\n",
    "\n",
    "birds=['COLLARED CRESCENTCHEST','GOLDEN PARAKEET','CRAB PLOVER','CRESTED OROPENDOLA','INLAND DOTTEREL','ABBOTTS BOOBY',\n",
    "       'RUFOUS TREPE','RED FACED WARBLER','BARN SWALLOW','SCARLET CROWNED FRUIT DOVE','RUDY KINGFISHER','RED BELLIED PITTA',\n",
    "       'YELLOW BREASTED CHAT','ANIANIAU','GREY CUCKOOSHRIKE']\n",
    "\n",
    "mapper={}\n",
    "for idx, bird in enumerate(birds):\n",
    "    mapper[bird] = idx\n",
    "    if idx == 0:\n",
    "        bdf = pd.DataFrame(data[(data.labels == bird)])\n",
    "    else:\n",
    "        bdf = pd.concat([bdf,data[(data.labels == bird)]],axis=0)\n",
    "\n",
    "## assign a new column with labels (0-14)\n",
    "bdf = bdf.assign(new_labels = bdf.labels.apply(lambda x: mapper[x]))\n",
    "\n",
    "## adds directory path to column train/test/split\n",
    "bdf['dir'] = bdf.filepaths.str.split(\"/\").apply(lambda x: '/'+x[0]+'/'+x[1])\n",
    "\n",
    "## removes existing bird_set directory\n",
    "try:\n",
    "    shutil.rmtree('./data/bird_set')\n",
    "except FileNotFoundError:\n",
    "    pass\n",
    "\n",
    "## populates new bird_set directory with train/test/valid\n",
    "for folder in bdf.dir.unique():\n",
    "    src = './data'+folder+'/'\n",
    "    dest = './data/bird_set'+folder+'/'\n",
    "    shutil.copytree(src,dest)\n",
    "\n",
    "## train test val split for CNN\n",
    "train = bdf[(bdf['data set'] == 'train')]\n",
    "test = bdf[(bdf['data set'] == 'test')]\n",
    "valid = bdf[(bdf['data set'] == 'valid')]\n",
    "\n",
    "Xtrain = np.array([plt.imread(x) for x in train.full_path])\n",
    "ytrain = train.new_labels\n",
    "\n",
    "Xtest = np.array([plt.imread(x) for x in test.full_path])\n",
    "ytest = test.new_labels\n",
    "\n",
    "Xvalid = np.array([plt.imread(x) for x in valid.full_path])\n",
    "yvalid = valid.new_labels\n"
   ]
  },
  {
   "cell_type": "code",
   "execution_count": 65,
   "id": "7fa8bed4",
   "metadata": {},
   "outputs": [
    {
     "data": {
      "text/html": [
       "<div>\n",
       "<style scoped>\n",
       "    .dataframe tbody tr th:only-of-type {\n",
       "        vertical-align: middle;\n",
       "    }\n",
       "\n",
       "    .dataframe tbody tr th {\n",
       "        vertical-align: top;\n",
       "    }\n",
       "\n",
       "    .dataframe thead th {\n",
       "        text-align: right;\n",
       "    }\n",
       "</style>\n",
       "<table border=\"1\" class=\"dataframe\">\n",
       "  <thead>\n",
       "    <tr style=\"text-align: right;\">\n",
       "      <th></th>\n",
       "      <th>class id</th>\n",
       "      <th>filepaths</th>\n",
       "      <th>labels</th>\n",
       "      <th>data set</th>\n",
       "      <th>scientific name</th>\n",
       "      <th>full_path</th>\n",
       "      <th>new_labels</th>\n",
       "      <th>dir</th>\n",
       "    </tr>\n",
       "  </thead>\n",
       "  <tbody>\n",
       "    <tr>\n",
       "      <th>10039</th>\n",
       "      <td>63.0</td>\n",
       "      <td>train/BARN SWALLOW/045.jpg</td>\n",
       "      <td>BARN SWALLOW</td>\n",
       "      <td>train</td>\n",
       "      <td>HIRUNDO RUSTICA</td>\n",
       "      <td>./data/train/BARN SWALLOW/045.jpg</td>\n",
       "      <td>8</td>\n",
       "      <td>/train/BARN SWALLOW</td>\n",
       "    </tr>\n",
       "    <tr>\n",
       "      <th>68183</th>\n",
       "      <td>426.0</td>\n",
       "      <td>train/RUFOUS TREPE/126.jpg</td>\n",
       "      <td>RUFOUS TREPE</td>\n",
       "      <td>train</td>\n",
       "      <td>DENDROCITTA VAGABUNDA</td>\n",
       "      <td>./data/train/RUFOUS TREPE/126.jpg</td>\n",
       "      <td>6</td>\n",
       "      <td>/train/RUFOUS TREPE</td>\n",
       "    </tr>\n",
       "    <tr>\n",
       "      <th>67819</th>\n",
       "      <td>424.0</td>\n",
       "      <td>train/RUDY KINGFISHER/131.jpg</td>\n",
       "      <td>RUDY KINGFISHER</td>\n",
       "      <td>train</td>\n",
       "      <td>HALCYON COROMANDA</td>\n",
       "      <td>./data/train/RUDY KINGFISHER/131.jpg</td>\n",
       "      <td>10</td>\n",
       "      <td>/train/RUDY KINGFISHER</td>\n",
       "    </tr>\n",
       "  </tbody>\n",
       "</table>\n",
       "</div>"
      ],
      "text/plain": [
       "       class id                      filepaths           labels data set  \\\n",
       "10039      63.0     train/BARN SWALLOW/045.jpg     BARN SWALLOW    train   \n",
       "68183     426.0     train/RUFOUS TREPE/126.jpg     RUFOUS TREPE    train   \n",
       "67819     424.0  train/RUDY KINGFISHER/131.jpg  RUDY KINGFISHER    train   \n",
       "\n",
       "             scientific name                             full_path  \\\n",
       "10039        HIRUNDO RUSTICA     ./data/train/BARN SWALLOW/045.jpg   \n",
       "68183  DENDROCITTA VAGABUNDA     ./data/train/RUFOUS TREPE/126.jpg   \n",
       "67819      HALCYON COROMANDA  ./data/train/RUDY KINGFISHER/131.jpg   \n",
       "\n",
       "       new_labels                     dir  \n",
       "10039           8     /train/BARN SWALLOW  \n",
       "68183           6     /train/RUFOUS TREPE  \n",
       "67819          10  /train/RUDY KINGFISHER  "
      ]
     },
     "execution_count": 65,
     "metadata": {},
     "output_type": "execute_result"
    }
   ],
   "source": [
    "bdf.sample(3)"
   ]
  },
  {
   "cell_type": "code",
   "execution_count": 44,
   "id": "8cd32eae",
   "metadata": {},
   "outputs": [
    {
     "name": "stdout",
     "output_type": "stream",
     "text": [
      "Epoch 1/10\n",
      "40/40 [==============================] - 25s 592ms/step - loss: 1.7423 - accuracy: 0.4840\n",
      "Epoch 2/10\n",
      "40/40 [==============================] - 23s 585ms/step - loss: 0.7390 - accuracy: 0.7596\n",
      "Epoch 3/10\n",
      "40/40 [==============================] - 23s 582ms/step - loss: 0.4713 - accuracy: 0.8490\n",
      "Epoch 4/10\n",
      "40/40 [==============================] - 24s 595ms/step - loss: 0.2918 - accuracy: 0.9014\n",
      "Epoch 5/10\n",
      "40/40 [==============================] - 23s 584ms/step - loss: 0.2105 - accuracy: 0.9257\n",
      "Epoch 6/10\n",
      "40/40 [==============================] - 24s 604ms/step - loss: 0.1783 - accuracy: 0.9441\n",
      "Epoch 7/10\n",
      "40/40 [==============================] - 24s 604ms/step - loss: 0.1241 - accuracy: 0.9637\n",
      "Epoch 8/10\n",
      "40/40 [==============================] - 24s 609ms/step - loss: 0.0660 - accuracy: 0.9792\n",
      "Epoch 9/10\n",
      "40/40 [==============================] - 24s 602ms/step - loss: 0.0888 - accuracy: 0.9708\n",
      "Epoch 10/10\n",
      "40/40 [==============================] - 24s 605ms/step - loss: 0.0712 - accuracy: 0.9756\n",
      "3/3 [==============================] - 0s 54ms/step\n",
      "Accuracy on test data:0.8266666666666667\n"
     ]
    }
   ],
   "source": [
    "## basic CNN\n",
    "\n",
    "neurons = (32,64,128,256,512)\n",
    "conv_window = (3,3)\n",
    "max_pooling = (2,2)\n",
    "batch = 64\n",
    "ep = 10\n",
    "learn_rate = 0.001\n",
    "mp_strides =(3,3)\n",
    "\n",
    "cnnmodel = keras.Sequential()\n",
    "\n",
    "cnnmodel.add(Conv2D(neurons[0],conv_window,input_shape=(Xtrain[0].shape),padding='same',activation='relu'))\n",
    "cnnmodel.add(BatchNormalizationV2())\n",
    "cnnmodel.add(MaxPooling2D(max_pooling,strides=mp_strides,padding='same'))\n",
    "cnnmodel.add(Dropout(.35))\n",
    "\n",
    "cnnmodel.add(Conv2D(neurons[1],conv_window,activation='relu'))\n",
    "cnnmodel.add(MaxPooling2D(max_pooling,strides=mp_strides,padding='same'))\n",
    "cnnmodel.add(BatchNormalizationV2())\n",
    "cnnmodel.add(Dropout(.35))\n",
    "\n",
    "cnnmodel.add(Conv2D(neurons[2],conv_window,activation='relu'))\n",
    "cnnmodel.add(MaxPooling2D(max_pooling,strides=mp_strides,padding='same'))\n",
    "cnnmodel.add(BatchNormalizationV2())\n",
    "cnnmodel.add(Dropout(.35))\n",
    "\n",
    "cnnmodel.add(Flatten())\n",
    "cnnmodel.add(Dense(neurons[3],activation='relu'))\n",
    "cnnmodel.add(Dense(neurons[4],activation='relu'))\n",
    "cnnmodel.add(Dense(15,activation='softmax'))\n",
    "\n",
    "opt = keras.optimizers.Adam(learning_rate=learn_rate)\n",
    "cnnmodel.compile(loss=SparseCategoricalCrossentropy(),optimizer=opt,metrics=['accuracy'])\n",
    "cnnmodel.fit(Xtrain,ytrain,batch_size=batch,epochs=ep)\n",
    "\n",
    "##get highest classified probability\n",
    "cnnpreds = [np.argmax(x) for x in model.predict(Xtest)]\n",
    "\n",
    "## print actual accuracy score\n",
    "print(f'Accuracy on test data:{accuracy_score(ytest,cnnpreds)}')"
   ]
  },
  {
   "cell_type": "code",
   "execution_count": 89,
   "id": "a4b1eff9",
   "metadata": {},
   "outputs": [],
   "source": [
    "# ## testing saved models..\n",
    "# test_cnn = keras.models.load_model('./models/CNN.h5')\n",
    "# test_preds = [np.argmax(x) for x in test_cnn.predict(Xtest)]\n",
    "# accuracy_score(test_preds,ytest)"
   ]
  },
  {
   "cell_type": "code",
   "execution_count": 52,
   "id": "dff6660d",
   "metadata": {},
   "outputs": [
    {
     "name": "stdout",
     "output_type": "stream",
     "text": [
      "              precision    recall  f1-score   support\n",
      "\n",
      "           0       0.75      0.60      0.67         5\n",
      "           1       1.00      1.00      1.00         5\n",
      "           2       1.00      1.00      1.00         5\n",
      "           3       1.00      0.60      0.75         5\n",
      "           4       0.44      0.80      0.57         5\n",
      "           5       1.00      0.40      0.57         5\n",
      "           6       0.75      0.60      0.67         5\n",
      "           7       1.00      1.00      1.00         5\n",
      "           8       0.71      1.00      0.83         5\n",
      "           9       1.00      0.80      0.89         5\n",
      "          10       1.00      1.00      1.00         5\n",
      "          11       1.00      1.00      1.00         5\n",
      "          12       0.57      0.80      0.67         5\n",
      "          13       1.00      1.00      1.00         5\n",
      "          14       0.80      0.80      0.80         5\n",
      "\n",
      "    accuracy                           0.83        75\n",
      "   macro avg       0.87      0.83      0.83        75\n",
      "weighted avg       0.87      0.83      0.83        75\n",
      "\n"
     ]
    }
   ],
   "source": [
    "## classification report\n",
    "print(classification_report(ytest,cnnpreds))"
   ]
  },
  {
   "cell_type": "code",
   "execution_count": 34,
   "id": "f6c17e15",
   "metadata": {},
   "outputs": [
    {
     "name": "stdout",
     "output_type": "stream",
     "text": [
      "Found 2504 images belonging to 15 classes.\n",
      "Found 75 images belonging to 15 classes.\n",
      "Found 75 images belonging to 15 classes.\n",
      "Epoch 1/10\n",
      "76/76 [==============================] - 119s 1s/step - loss: 2.2883 - accuracy: 0.2936\n",
      "Epoch 2/10\n",
      "76/76 [==============================] - 108s 1s/step - loss: 1.7920 - accuracy: 0.4273\n",
      "Epoch 3/10\n",
      "76/76 [==============================] - 106s 1s/step - loss: 1.5207 - accuracy: 0.5141\n",
      "Epoch 4/10\n",
      "76/76 [==============================] - 106s 1s/step - loss: 1.3432 - accuracy: 0.5615\n",
      "Epoch 5/10\n",
      "76/76 [==============================] - 111s 1s/step - loss: 1.1791 - accuracy: 0.6164\n",
      "Epoch 6/10\n",
      "76/76 [==============================] - 110s 1s/step - loss: 1.0243 - accuracy: 0.6624\n",
      "Epoch 7/10\n",
      "76/76 [==============================] - 111s 1s/step - loss: 0.9199 - accuracy: 0.6998\n",
      "Epoch 8/10\n",
      "76/76 [==============================] - 108s 1s/step - loss: 0.8381 - accuracy: 0.7259\n",
      "Epoch 9/10\n",
      "76/76 [==============================] - 107s 1s/step - loss: 0.7546 - accuracy: 0.7699\n",
      "Epoch 10/10\n",
      "76/76 [==============================] - 107s 1s/step - loss: 0.6494 - accuracy: 0.7924\n"
     ]
    }
   ],
   "source": [
    "## efficientNET CNN\n",
    "\n",
    "train_dir='./data/bird_set/train/'\n",
    "test_dir='./data/bird_set/test/'\n",
    "valid_dir='./data/bird_set/valid/'\n",
    "\n",
    "## hyper params\n",
    "BATCH_SIZE=32\n",
    "STEPS = 76\n",
    "NEURONS=(512,512)\n",
    "LRATE=.001\n",
    "\n",
    "## instantiate data generator with ppi_vgg preprocessing\n",
    "data_generator = ImageDataGenerator(preprocessing_function=ppi_vgg)\n",
    "\n",
    "## preprocess train data\n",
    "train_generator = data_generator.flow_from_directory(\n",
    "    train_dir,\n",
    "    target_size=(224,224),\n",
    "    batch_size=BATCH_SIZE,\n",
    "    classes=birds,\n",
    "    class_mode='categorical',\n",
    "    shuffle=True)\n",
    "\n",
    "## preprocessed test data\n",
    "test_generator = data_generator.flow_from_directory(\n",
    "    test_dir,\n",
    "    target_size=(224,224),\n",
    "    batch_size=BATCH_SIZE,\n",
    "    classes=birds,\n",
    "    class_mode='categorical',\n",
    "    shuffle = False)\n",
    "\n",
    "## preprocessed valid data\n",
    "val_generator = data_generator.flow_from_directory(\n",
    "    valid_dir,\n",
    "    target_size=(224,224),\n",
    "    classes=birds,\n",
    "    class_mode='categorical',\n",
    "    shuffle=True)\n",
    "\n",
    "## instantiate EfficientNet model with pretrained imagenet model\n",
    "efn = EfficientNetB0(include_top=False, weights='imagenet', drop_connect_rate=.1,input_shape=(224,224,3))\n",
    "\n",
    "## freeze imagenet layers\n",
    "for layer in efn.layers:\n",
    "    layer.trainable = False\n",
    "\n",
    "## instantiate model\n",
    "efmodel = Sequential()\n",
    "efmodel.add(BatchNormalization())\n",
    "efmodel.add(efn)\n",
    "efmodel.add(GlobalAveragePooling2D())\n",
    "efmodel.add(BatchNormalization())\n",
    "efmodel.add(Dense(NEURONS[0],activation='relu'))\n",
    "efmodel.add(Dense(NEURONS[1],activation='relu'))\n",
    "efmodel.add(Dense(15, activation='softmax'))\n",
    "\n",
    "# model.summary()\n",
    "efmodel.compile(optimizer=Adam(learning_rate=LRATE),loss='categorical_crossentropy',metrics=['accuracy'])\n",
    "\n",
    "efhistory = efmodel.fit(train_generator,epochs=10,steps_per_epoch=STEPS,verbose=1)"
   ]
  },
  {
   "cell_type": "code",
   "execution_count": 95,
   "id": "433b8de7",
   "metadata": {},
   "outputs": [
    {
     "data": {
      "text/plain": [
       "'2.10.0'"
      ]
     },
     "execution_count": 95,
     "metadata": {},
     "output_type": "execute_result"
    }
   ],
   "source": [
    "## unable to save model due to bug in tensorflow version 2.10.0\n",
    "## efmodel.save('./models/efnmodel.h5')\n",
    "tensorflow.__version__"
   ]
  },
  {
   "cell_type": "code",
   "execution_count": 79,
   "id": "677ee2a1",
   "metadata": {},
   "outputs": [
    {
     "name": "stdout",
     "output_type": "stream",
     "text": [
      "Number of trainable params: 4980926\n"
     ]
    }
   ],
   "source": [
    "print(f'Number of trainable params: {efmodel.count_params()}')"
   ]
  },
  {
   "cell_type": "code",
   "execution_count": 62,
   "id": "f4099722",
   "metadata": {},
   "outputs": [
    {
     "name": "stdout",
     "output_type": "stream",
     "text": [
      "3/3 [==============================] - 1s 233ms/step\n",
      "Accuracy on testing set: 0.7867\n"
     ]
    }
   ],
   "source": [
    "## testing accuracy\n",
    "predictions = [np.argmax(x) for x in efmodel.predict(test_generator)]\n",
    "ytest = test_generator.labels\n",
    "print(f'Accuracy on testing set: {round(accuracy_score(ytest,predictions),4)}')"
   ]
  },
  {
   "cell_type": "code",
   "execution_count": 38,
   "id": "4acf0dec",
   "metadata": {},
   "outputs": [
    {
     "name": "stdout",
     "output_type": "stream",
     "text": [
      "3/3 [==============================] - 3s 250ms/step\n",
      "                            precision    recall  f1-score   support\n",
      "\n",
      "    COLLARED CRESCENTCHEST       1.00      0.80      0.89         5\n",
      "           GOLDEN PARAKEET       1.00      1.00      1.00         5\n",
      "               CRAB PLOVER       1.00      1.00      1.00         5\n",
      "        CRESTED OROPENDOLA       1.00      0.80      0.89         5\n",
      "           INLAND DOTTEREL       1.00      0.80      0.89         5\n",
      "             ABBOTTS BOOBY       1.00      0.60      0.75         5\n",
      "              RUFOUS TREPE       1.00      0.60      0.75         5\n",
      "         RED FACED WARBLER       0.83      1.00      0.91         5\n",
      "              BARN SWALLOW       0.80      0.80      0.80         5\n",
      "SCARLET CROWNED FRUIT DOVE       0.56      1.00      0.71         5\n",
      "           RUDY KINGFISHER       0.83      1.00      0.91         5\n",
      "         RED BELLIED PITTA       0.80      0.80      0.80         5\n",
      "      YELLOW BREASTED CHAT       0.50      0.40      0.44         5\n",
      "                  ANIANIAU       0.67      0.40      0.50         5\n",
      "         GREY CUCKOOSHRIKE       0.44      0.80      0.57         5\n",
      "\n",
      "                  accuracy                           0.79        75\n",
      "                 macro avg       0.83      0.79      0.79        75\n",
      "              weighted avg       0.83      0.79      0.79        75\n",
      "\n"
     ]
    }
   ],
   "source": [
    "## classification report\n",
    "predictions = efmodel.predict(test_generator)\n",
    "y_true = test_generator.labels\n",
    "y_pred = np.argmax(predictions, axis=1)\n",
    "\n",
    "class_labels = list(test_generator.class_indices.keys())\n",
    "\n",
    "print(classification_report(y_true, y_pred, target_names=class_labels))"
   ]
  },
  {
   "cell_type": "code",
   "execution_count": 63,
   "id": "d430cee2",
   "metadata": {},
   "outputs": [
    {
     "name": "stdout",
     "output_type": "stream",
     "text": [
      "Found 2504 images belonging to 15 classes.\n",
      "Found 75 images belonging to 15 classes.\n",
      "Found 75 images belonging to 15 classes.\n"
     ]
    }
   ],
   "source": [
    "\n",
    "train_folder = './data/bird_set/train/'\n",
    "test_folder = './data/bird_set/test/'\n",
    "validation_folder = './data/bird_set/valid/'\n",
    "\n",
    "\n",
    "train_datagen = ImageDataGenerator(rescale=1.0/255,\n",
    "                                   preprocessing_function=ppi_vgg,\n",
    "                                   rotation_range = 20,\n",
    "                                   zoom_range = 0.2,\n",
    "                                   horizontal_flip = True)\n",
    "\n",
    "validation_datagen = ImageDataGenerator(rescale=1.0/255, \n",
    "                                        preprocessing_function=ppi_vgg,\n",
    "                                        rotation_range = 20,\n",
    "                                        zoom_range = 0.2,\n",
    "                                        horizontal_flip = True)\n",
    "\n",
    "\n",
    "train_generator = train_datagen.flow_from_directory(\n",
    "    directory=train_folder,\n",
    "    target_size=(224, 224),\n",
    "    batch_size=32,\n",
    "    classes=birds,\n",
    "    class_mode='categorical',\n",
    "    shuffle = True)\n",
    "\n",
    "validation_generator = validation_datagen.flow_from_directory(\n",
    "    directory=validation_folder,\n",
    "    target_size=(224, 224),\n",
    "    batch_size=32,\n",
    "    classes=birds,\n",
    "    class_mode='categorical',\n",
    "    shuffle = True)\n",
    "\n",
    "test_datagen = ImageDataGenerator(rescale=1.0/255, preprocessing_function=ppi_vgg)\n",
    "test_generator = test_datagen.flow_from_directory(\n",
    "    directory=test_folder,\n",
    "    target_size=(224, 224),\n",
    "    batch_size=32,\n",
    "    classes=birds,\n",
    "    class_mode='categorical',\n",
    "    shuffle = False)"
   ]
  },
  {
   "cell_type": "markdown",
   "id": "9fa8fc6b",
   "metadata": {},
   "source": [
    "We used Google Colab to run the pre-trained VGG19 model to help us boost the training time"
   ]
  },
  {
   "cell_type": "code",
   "execution_count": 64,
   "id": "798d75ca",
   "metadata": {},
   "outputs": [
    {
     "name": "stdout",
     "output_type": "stream",
     "text": [
      "Epoch 1/10\n",
      "79/79 [==============================] - 209s 3s/step - loss: 2.4580 - accuracy: 0.2408 - val_loss: 2.1307 - val_accuracy: 0.2533\n",
      "Epoch 2/10\n",
      "79/79 [==============================] - 194s 2s/step - loss: 1.9397 - accuracy: 0.4696 - val_loss: 1.5618 - val_accuracy: 0.6267\n",
      "Epoch 3/10\n",
      "79/79 [==============================] - 198s 3s/step - loss: 1.5750 - accuracy: 0.5919 - val_loss: 1.1847 - val_accuracy: 0.7467\n",
      "Epoch 4/10\n",
      "79/79 [==============================] - 197s 2s/step - loss: 1.3239 - accuracy: 0.6554 - val_loss: 0.9035 - val_accuracy: 0.8533\n",
      "Epoch 5/10\n",
      "79/79 [==============================] - 195s 2s/step - loss: 1.1222 - accuracy: 0.7157 - val_loss: 0.7509 - val_accuracy: 0.8400\n",
      "Epoch 6/10\n",
      "79/79 [==============================] - 191s 2s/step - loss: 0.9723 - accuracy: 0.7592 - val_loss: 0.6444 - val_accuracy: 0.8800\n",
      "Epoch 7/10\n",
      "79/79 [==============================] - 197s 2s/step - loss: 0.8697 - accuracy: 0.7728 - val_loss: 0.5474 - val_accuracy: 0.9067\n",
      "Epoch 8/10\n",
      "79/79 [==============================] - 192s 2s/step - loss: 0.7780 - accuracy: 0.8063 - val_loss: 0.4781 - val_accuracy: 0.8800\n",
      "Epoch 9/10\n",
      "79/79 [==============================] - 197s 2s/step - loss: 0.7036 - accuracy: 0.8235 - val_loss: 0.4083 - val_accuracy: 0.8800\n",
      "Epoch 10/10\n",
      "79/79 [==============================] - 194s 2s/step - loss: 0.6659 - accuracy: 0.8267 - val_loss: 0.4447 - val_accuracy: 0.8800\n"
     ]
    }
   ],
   "source": [
    "# pre-trained VGG19 model\n",
    "base_model = VGG19(weights='imagenet', include_top=False, input_shape=(224, 224, 3))\n",
    "\n",
    "# Freeze the pre-trained layers\n",
    "for layer in base_model.layers:\n",
    "    layer.trainable = False\n",
    "\n",
    "\n",
    "x = base_model.output\n",
    "x = GlobalAveragePooling2D()(x)\n",
    "x = Dense(128, activation='relu')(x)\n",
    "predictions = Dense(15, activation='softmax')(x)\n",
    "\n",
    "\n",
    "model = Model(inputs=base_model.input, outputs=predictions)\n",
    "\n",
    "\n",
    "model.compile(optimizer=Adam(learning_rate=0.001), loss='categorical_crossentropy', metrics=['accuracy'])\n",
    "\n",
    "\n",
    "# transfer learning\n",
    "history = model.fit(train_generator,\n",
    "                    epochs=10,\n",
    "                    validation_data=validation_generator)\n"
   ]
  },
  {
   "cell_type": "code",
   "execution_count": 66,
   "id": "611fed8b",
   "metadata": {},
   "outputs": [
    {
     "data": {
      "image/png": "[encoded data removed]",
      "text/plain": [
       "<Figure size 640x480 with 1 Axes>"
      ]
     },
     "metadata": {},
     "output_type": "display_data"
    }
   ],
   "source": [
    "train_acc = history.history['accuracy']\n",
    "val_acc = history.history['val_accuracy']\n",
    "\n",
    "epochs = range(1, len(train_acc) + 1)\n",
    "plt.plot(epochs, train_acc, 'b', label='Training Accuracy')\n",
    "plt.plot(epochs, val_acc, 'r', label='Validation Accuracy')\n",
    "plt.title('Training and Validation Accuracy')\n",
    "plt.xlabel('Epochs')\n",
    "plt.ylabel('Accuracy')\n",
    "plt.legend()\n",
    "plt.show()"
   ]
  },
  {
   "cell_type": "code",
   "execution_count": 96,
   "id": "5a3cc95c",
   "metadata": {},
   "outputs": [],
   "source": [
    "## loading saved model\n",
    "vggmodel = tensorflow.keras.models.load_model('./models/vgg19.h5')"
   ]
  },
  {
   "cell_type": "code",
   "execution_count": 97,
   "id": "318efeb0",
   "metadata": {},
   "outputs": [
    {
     "name": "stdout",
     "output_type": "stream",
     "text": [
      "3/3 [==============================] - 7s 2s/step - loss: 0.3612 - accuracy: 0.9200\n",
      "Test Loss: 0.36121082305908203\n",
      "Test Accuracy: 0.9200000166893005\n"
     ]
    }
   ],
   "source": [
    "## loss and accuracy\n",
    "test_loss, test_acc = vggmodel.evaluate(test_generator)\n",
    "print('Test Loss:', test_loss)\n",
    "print('Test Accuracy:', test_acc)"
   ]
  },
  {
   "cell_type": "code",
   "execution_count": 98,
   "id": "98dbf5e6",
   "metadata": {},
   "outputs": [
    {
     "name": "stdout",
     "output_type": "stream",
     "text": [
      "3/3 [==============================] - 6s 2s/step\n",
      "                            precision    recall  f1-score   support\n",
      "\n",
      "    COLLARED CRESCENTCHEST       1.00      1.00      1.00         5\n",
      "           GOLDEN PARAKEET       0.62      1.00      0.77         5\n",
      "               CRAB PLOVER       1.00      1.00      1.00         5\n",
      "        CRESTED OROPENDOLA       0.80      0.80      0.80         5\n",
      "           INLAND DOTTEREL       1.00      1.00      1.00         5\n",
      "             ABBOTTS BOOBY       1.00      0.80      0.89         5\n",
      "              RUFOUS TREPE       1.00      0.80      0.89         5\n",
      "         RED FACED WARBLER       1.00      1.00      1.00         5\n",
      "              BARN SWALLOW       0.71      1.00      0.83         5\n",
      "SCARLET CROWNED FRUIT DOVE       1.00      1.00      1.00         5\n",
      "           RUDY KINGFISHER       1.00      1.00      1.00         5\n",
      "         RED BELLIED PITTA       1.00      1.00      1.00         5\n",
      "      YELLOW BREASTED CHAT       1.00      0.60      0.75         5\n",
      "                  ANIANIAU       1.00      1.00      1.00         5\n",
      "         GREY CUCKOOSHRIKE       1.00      0.80      0.89         5\n",
      "\n",
      "                  accuracy                           0.92        75\n",
      "                 macro avg       0.94      0.92      0.92        75\n",
      "              weighted avg       0.94      0.92      0.92        75\n",
      "\n"
     ]
    }
   ],
   "source": [
    "## classification report\n",
    "predictions = vggmodel.predict(test_generator)\n",
    "y_true = test_generator.labels\n",
    "y_pred = np.argmax(predictions, axis=1)\n",
    "\n",
    "class_labels = list(test_generator.class_indices.keys())\n",
    "\n",
    "print(classification_report(y_true, y_pred, target_names=class_labels))"
   ]
  },
  {
   "cell_type": "code",
   "execution_count": 99,
   "id": "00b1cf88",
   "metadata": {},
   "outputs": [
    {
     "name": "stdout",
     "output_type": "stream",
     "text": [
      "[[5 0 0 0 0 0 0 0 0 0 0 0 0 0 0]\n",
      " [0 5 0 0 0 0 0 0 0 0 0 0 0 0 0]\n",
      " [0 0 5 0 0 0 0 0 0 0 0 0 0 0 0]\n",
      " [0 0 0 4 0 0 0 0 1 0 0 0 0 0 0]\n",
      " [0 0 0 0 5 0 0 0 0 0 0 0 0 0 0]\n",
      " [0 0 0 1 0 4 0 0 0 0 0 0 0 0 0]\n",
      " [0 1 0 0 0 0 4 0 0 0 0 0 0 0 0]\n",
      " [0 0 0 0 0 0 0 5 0 0 0 0 0 0 0]\n",
      " [0 0 0 0 0 0 0 0 5 0 0 0 0 0 0]\n",
      " [0 0 0 0 0 0 0 0 0 5 0 0 0 0 0]\n",
      " [0 0 0 0 0 0 0 0 0 0 5 0 0 0 0]\n",
      " [0 0 0 0 0 0 0 0 0 0 0 5 0 0 0]\n",
      " [0 2 0 0 0 0 0 0 0 0 0 0 3 0 0]\n",
      " [0 0 0 0 0 0 0 0 0 0 0 0 0 5 0]\n",
      " [0 0 0 0 0 0 0 0 1 0 0 0 0 0 4]]\n"
     ]
    }
   ],
   "source": [
    "##confusion matrix\n",
    "print(confusion_matrix(y_true, y_pred))"
   ]
  }
 ],
 "metadata": {
  "kernelspec": {
   "display_name": "Python 3 (ipykernel)",
   "language": "python",
   "name": "python3"
  },
  "language_info": {
   "codemirror_mode": {
    "name": "ipython",
    "version": 3
   },
   "file_extension": ".py",
   "mimetype": "text/x-python",
   "name": "python",
   "nbconvert_exporter": "python",
   "pygments_lexer": "ipython3",
   "version": "3.10.9"
  }
 },
 "nbformat": 4,
 "nbformat_minor": 5
}
